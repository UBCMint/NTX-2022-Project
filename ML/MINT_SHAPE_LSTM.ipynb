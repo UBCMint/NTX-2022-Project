{
 "cells": [
  {
   "cell_type": "code",
   "execution_count": 112,
   "metadata": {},
   "outputs": [],
   "source": [
    "import pandas as pd\n",
    "import numpy as np\n",
    "import tensorflow as tf\n",
    "import os\n"
   ]
  },
  {
   "cell_type": "code",
   "execution_count": 97,
   "metadata": {},
   "outputs": [],
   "source": [
    "#I borrowed this from Eva Wang as it is convenient\n",
    "directory = \"./Shape/\"\n",
    "dataset=[]\n",
    "for filename in os.listdir(directory):\n",
    "    f = os.path.join(directory, filename)\n",
    "    # checking if it is a file\n",
    "    if os.path.isfile(f) and f.__contains__(\".csv\"):\n",
    "        ds = pd.read_csv(f)\n",
    "        i=ds.loc[ds[' EXG Channel 0'] == 0].index\n",
    "        if(len(i)==1):\n",
    "          ds=ds.tail(-(i[0]+1))\n",
    "        dataset.append(ds)"
   ]
  },
  {
   "cell_type": "code",
   "execution_count": 98,
   "metadata": {},
   "outputs": [
    {
     "data": {
      "text/html": [
       "<div>\n",
       "<style scoped>\n",
       "    .dataframe tbody tr th:only-of-type {\n",
       "        vertical-align: middle;\n",
       "    }\n",
       "\n",
       "    .dataframe tbody tr th {\n",
       "        vertical-align: top;\n",
       "    }\n",
       "\n",
       "    .dataframe thead th {\n",
       "        text-align: right;\n",
       "    }\n",
       "</style>\n",
       "<table border=\"1\" class=\"dataframe\">\n",
       "  <thead>\n",
       "    <tr style=\"text-align: right;\">\n",
       "      <th></th>\n",
       "      <th>Sample Index</th>\n",
       "      <th>EXG Channel 0</th>\n",
       "      <th>EXG Channel 1</th>\n",
       "      <th>EXG Channel 2</th>\n",
       "      <th>EXG Channel 3</th>\n",
       "      <th>EXG Channel 4</th>\n",
       "      <th>EXG Channel 5</th>\n",
       "      <th>EXG Channel 6</th>\n",
       "      <th>EXG Channel 7</th>\n",
       "      <th>Accel Channel 0</th>\n",
       "      <th>...</th>\n",
       "      <th>Other.3</th>\n",
       "      <th>Other.4</th>\n",
       "      <th>Other.5</th>\n",
       "      <th>Other.6</th>\n",
       "      <th>Analog Channel 0</th>\n",
       "      <th>Analog Channel 1</th>\n",
       "      <th>Analog Channel 2</th>\n",
       "      <th>Timestamp</th>\n",
       "      <th>Other.7</th>\n",
       "      <th>Timestamp (Formatted)</th>\n",
       "    </tr>\n",
       "  </thead>\n",
       "  <tbody>\n",
       "    <tr>\n",
       "      <th>124</th>\n",
       "      <td>1.0</td>\n",
       "      <td>-144916.171720</td>\n",
       "      <td>-157124.873355</td>\n",
       "      <td>51412.834396</td>\n",
       "      <td>-84025.840047</td>\n",
       "      <td>72751.798958</td>\n",
       "      <td>-73386.655556</td>\n",
       "      <td>85846.501392</td>\n",
       "      <td>-127909.578730</td>\n",
       "      <td>-0.002</td>\n",
       "      <td>...</td>\n",
       "      <td>29.0</td>\n",
       "      <td>176.0</td>\n",
       "      <td>251.0</td>\n",
       "      <td>176.0</td>\n",
       "      <td>0.0</td>\n",
       "      <td>0.0</td>\n",
       "      <td>0.0</td>\n",
       "      <td>1.666408e+09</td>\n",
       "      <td>0.0</td>\n",
       "      <td>2022-10-21 20:04:39.720</td>\n",
       "    </tr>\n",
       "    <tr>\n",
       "      <th>125</th>\n",
       "      <td>2.0</td>\n",
       "      <td>-144920.038571</td>\n",
       "      <td>-157125.588611</td>\n",
       "      <td>51407.849956</td>\n",
       "      <td>-84023.783687</td>\n",
       "      <td>72750.837833</td>\n",
       "      <td>-73360.861642</td>\n",
       "      <td>85878.822014</td>\n",
       "      <td>-127909.981061</td>\n",
       "      <td>-0.002</td>\n",
       "      <td>...</td>\n",
       "      <td>0.0</td>\n",
       "      <td>0.0</td>\n",
       "      <td>0.0</td>\n",
       "      <td>0.0</td>\n",
       "      <td>0.0</td>\n",
       "      <td>0.0</td>\n",
       "      <td>0.0</td>\n",
       "      <td>1.666408e+09</td>\n",
       "      <td>0.0</td>\n",
       "      <td>2022-10-21 20:04:39.720</td>\n",
       "    </tr>\n",
       "    <tr>\n",
       "      <th>126</th>\n",
       "      <td>3.0</td>\n",
       "      <td>-144929.336897</td>\n",
       "      <td>-157135.624544</td>\n",
       "      <td>51393.813061</td>\n",
       "      <td>-84046.157783</td>\n",
       "      <td>72739.036112</td>\n",
       "      <td>-73355.899555</td>\n",
       "      <td>85876.229212</td>\n",
       "      <td>-127921.983948</td>\n",
       "      <td>-0.002</td>\n",
       "      <td>...</td>\n",
       "      <td>0.0</td>\n",
       "      <td>0.0</td>\n",
       "      <td>0.0</td>\n",
       "      <td>0.0</td>\n",
       "      <td>0.0</td>\n",
       "      <td>0.0</td>\n",
       "      <td>0.0</td>\n",
       "      <td>1.666408e+09</td>\n",
       "      <td>0.0</td>\n",
       "      <td>2022-10-21 20:04:39.720</td>\n",
       "    </tr>\n",
       "    <tr>\n",
       "      <th>127</th>\n",
       "      <td>4.0</td>\n",
       "      <td>-144925.291231</td>\n",
       "      <td>-157134.037570</td>\n",
       "      <td>51393.813061</td>\n",
       "      <td>-84050.136393</td>\n",
       "      <td>72737.404434</td>\n",
       "      <td>-73382.609890</td>\n",
       "      <td>85843.126278</td>\n",
       "      <td>-127926.968387</td>\n",
       "      <td>-0.002</td>\n",
       "      <td>...</td>\n",
       "      <td>0.0</td>\n",
       "      <td>0.0</td>\n",
       "      <td>0.0</td>\n",
       "      <td>0.0</td>\n",
       "      <td>0.0</td>\n",
       "      <td>0.0</td>\n",
       "      <td>0.0</td>\n",
       "      <td>1.666408e+09</td>\n",
       "      <td>0.0</td>\n",
       "      <td>2022-10-21 20:04:39.720</td>\n",
       "    </tr>\n",
       "    <tr>\n",
       "      <th>128</th>\n",
       "      <td>5.0</td>\n",
       "      <td>-144920.284441</td>\n",
       "      <td>-157131.645934</td>\n",
       "      <td>51397.478747</td>\n",
       "      <td>-84053.556210</td>\n",
       "      <td>72735.951571</td>\n",
       "      <td>-73401.385355</td>\n",
       "      <td>85829.245845</td>\n",
       "      <td>-127915.032555</td>\n",
       "      <td>-0.002</td>\n",
       "      <td>...</td>\n",
       "      <td>0.0</td>\n",
       "      <td>0.0</td>\n",
       "      <td>0.0</td>\n",
       "      <td>0.0</td>\n",
       "      <td>0.0</td>\n",
       "      <td>0.0</td>\n",
       "      <td>0.0</td>\n",
       "      <td>1.666408e+09</td>\n",
       "      <td>0.0</td>\n",
       "      <td>2022-10-21 20:04:39.720</td>\n",
       "    </tr>\n",
       "    <tr>\n",
       "      <th>...</th>\n",
       "      <td>...</td>\n",
       "      <td>...</td>\n",
       "      <td>...</td>\n",
       "      <td>...</td>\n",
       "      <td>...</td>\n",
       "      <td>...</td>\n",
       "      <td>...</td>\n",
       "      <td>...</td>\n",
       "      <td>...</td>\n",
       "      <td>...</td>\n",
       "      <td>...</td>\n",
       "      <td>...</td>\n",
       "      <td>...</td>\n",
       "      <td>...</td>\n",
       "      <td>...</td>\n",
       "      <td>...</td>\n",
       "      <td>...</td>\n",
       "      <td>...</td>\n",
       "      <td>...</td>\n",
       "      <td>...</td>\n",
       "      <td>...</td>\n",
       "    </tr>\n",
       "    <tr>\n",
       "      <th>7048</th>\n",
       "      <td>13.0</td>\n",
       "      <td>-148004.914582</td>\n",
       "      <td>-158268.030973</td>\n",
       "      <td>47038.061564</td>\n",
       "      <td>-85224.988785</td>\n",
       "      <td>73478.945908</td>\n",
       "      <td>-72534.338836</td>\n",
       "      <td>86159.179945</td>\n",
       "      <td>-128103.122485</td>\n",
       "      <td>-0.034</td>\n",
       "      <td>...</td>\n",
       "      <td>0.0</td>\n",
       "      <td>0.0</td>\n",
       "      <td>0.0</td>\n",
       "      <td>0.0</td>\n",
       "      <td>0.0</td>\n",
       "      <td>0.0</td>\n",
       "      <td>0.0</td>\n",
       "      <td>1.666408e+09</td>\n",
       "      <td>0.0</td>\n",
       "      <td>2022-10-21 20:05:07.065</td>\n",
       "    </tr>\n",
       "    <tr>\n",
       "      <th>7049</th>\n",
       "      <td>14.0</td>\n",
       "      <td>-148002.031207</td>\n",
       "      <td>-158264.477046</td>\n",
       "      <td>47038.888578</td>\n",
       "      <td>-85230.017928</td>\n",
       "      <td>73483.371554</td>\n",
       "      <td>-72551.996714</td>\n",
       "      <td>86128.759221</td>\n",
       "      <td>-128105.223549</td>\n",
       "      <td>-0.034</td>\n",
       "      <td>...</td>\n",
       "      <td>0.0</td>\n",
       "      <td>0.0</td>\n",
       "      <td>0.0</td>\n",
       "      <td>0.0</td>\n",
       "      <td>0.0</td>\n",
       "      <td>0.0</td>\n",
       "      <td>0.0</td>\n",
       "      <td>1.666408e+09</td>\n",
       "      <td>0.0</td>\n",
       "      <td>2022-10-21 20:05:07.065</td>\n",
       "    </tr>\n",
       "    <tr>\n",
       "      <th>7050</th>\n",
       "      <td>15.0</td>\n",
       "      <td>-148000.801861</td>\n",
       "      <td>-158262.353630</td>\n",
       "      <td>47041.637843</td>\n",
       "      <td>-85229.101506</td>\n",
       "      <td>73485.182045</td>\n",
       "      <td>-72570.213386</td>\n",
       "      <td>86115.437581</td>\n",
       "      <td>-128099.345040</td>\n",
       "      <td>-0.034</td>\n",
       "      <td>...</td>\n",
       "      <td>0.0</td>\n",
       "      <td>0.0</td>\n",
       "      <td>0.0</td>\n",
       "      <td>0.0</td>\n",
       "      <td>0.0</td>\n",
       "      <td>0.0</td>\n",
       "      <td>0.0</td>\n",
       "      <td>1.666408e+09</td>\n",
       "      <td>0.0</td>\n",
       "      <td>2022-10-21 20:05:07.542</td>\n",
       "    </tr>\n",
       "    <tr>\n",
       "      <th>7051</th>\n",
       "      <td>16.0</td>\n",
       "      <td>-148007.261516</td>\n",
       "      <td>-158270.735535</td>\n",
       "      <td>47038.463895</td>\n",
       "      <td>-85228.363899</td>\n",
       "      <td>73478.923557</td>\n",
       "      <td>-72556.735284</td>\n",
       "      <td>86141.522067</td>\n",
       "      <td>-128102.362526</td>\n",
       "      <td>-0.022</td>\n",
       "      <td>...</td>\n",
       "      <td>29.0</td>\n",
       "      <td>112.0</td>\n",
       "      <td>250.0</td>\n",
       "      <td>48.0</td>\n",
       "      <td>0.0</td>\n",
       "      <td>0.0</td>\n",
       "      <td>0.0</td>\n",
       "      <td>1.666408e+09</td>\n",
       "      <td>0.0</td>\n",
       "      <td>2022-10-21 20:05:07.542</td>\n",
       "    </tr>\n",
       "    <tr>\n",
       "      <th>7052</th>\n",
       "      <td>17.0</td>\n",
       "      <td>-147996.912658</td>\n",
       "      <td>-158264.097066</td>\n",
       "      <td>47044.342404</td>\n",
       "      <td>-85223.401812</td>\n",
       "      <td>73487.417220</td>\n",
       "      <td>-72527.409795</td>\n",
       "      <td>86168.299457</td>\n",
       "      <td>-128095.813465</td>\n",
       "      <td>-0.022</td>\n",
       "      <td>...</td>\n",
       "      <td>0.0</td>\n",
       "      <td>0.0</td>\n",
       "      <td>0.0</td>\n",
       "      <td>0.0</td>\n",
       "      <td>0.0</td>\n",
       "      <td>0.0</td>\n",
       "      <td>0.0</td>\n",
       "      <td>1.666408e+09</td>\n",
       "      <td>0.0</td>\n",
       "      <td>2022-10-21 20:05:07.542</td>\n",
       "    </tr>\n",
       "  </tbody>\n",
       "</table>\n",
       "<p>6929 rows × 25 columns</p>\n",
       "</div>"
      ],
      "text/plain": [
       "      Sample Index   EXG Channel 0   EXG Channel 1   EXG Channel 2  \\\n",
       "124            1.0  -144916.171720  -157124.873355    51412.834396   \n",
       "125            2.0  -144920.038571  -157125.588611    51407.849956   \n",
       "126            3.0  -144929.336897  -157135.624544    51393.813061   \n",
       "127            4.0  -144925.291231  -157134.037570    51393.813061   \n",
       "128            5.0  -144920.284441  -157131.645934    51397.478747   \n",
       "...            ...             ...             ...             ...   \n",
       "7048          13.0  -148004.914582  -158268.030973    47038.061564   \n",
       "7049          14.0  -148002.031207  -158264.477046    47038.888578   \n",
       "7050          15.0  -148000.801861  -158262.353630    47041.637843   \n",
       "7051          16.0  -148007.261516  -158270.735535    47038.463895   \n",
       "7052          17.0  -147996.912658  -158264.097066    47044.342404   \n",
       "\n",
       "       EXG Channel 3   EXG Channel 4   EXG Channel 5   EXG Channel 6  \\\n",
       "124    -84025.840047    72751.798958   -73386.655556    85846.501392   \n",
       "125    -84023.783687    72750.837833   -73360.861642    85878.822014   \n",
       "126    -84046.157783    72739.036112   -73355.899555    85876.229212   \n",
       "127    -84050.136393    72737.404434   -73382.609890    85843.126278   \n",
       "128    -84053.556210    72735.951571   -73401.385355    85829.245845   \n",
       "...              ...             ...             ...             ...   \n",
       "7048   -85224.988785    73478.945908   -72534.338836    86159.179945   \n",
       "7049   -85230.017928    73483.371554   -72551.996714    86128.759221   \n",
       "7050   -85229.101506    73485.182045   -72570.213386    86115.437581   \n",
       "7051   -85228.363899    73478.923557   -72556.735284    86141.522067   \n",
       "7052   -85223.401812    73487.417220   -72527.409795    86168.299457   \n",
       "\n",
       "       EXG Channel 7   Accel Channel 0  ...   Other.3   Other.4   Other.5  \\\n",
       "124   -127909.578730            -0.002  ...      29.0     176.0     251.0   \n",
       "125   -127909.981061            -0.002  ...       0.0       0.0       0.0   \n",
       "126   -127921.983948            -0.002  ...       0.0       0.0       0.0   \n",
       "127   -127926.968387            -0.002  ...       0.0       0.0       0.0   \n",
       "128   -127915.032555            -0.002  ...       0.0       0.0       0.0   \n",
       "...              ...               ...  ...       ...       ...       ...   \n",
       "7048  -128103.122485            -0.034  ...       0.0       0.0       0.0   \n",
       "7049  -128105.223549            -0.034  ...       0.0       0.0       0.0   \n",
       "7050  -128099.345040            -0.034  ...       0.0       0.0       0.0   \n",
       "7051  -128102.362526            -0.022  ...      29.0     112.0     250.0   \n",
       "7052  -128095.813465            -0.022  ...       0.0       0.0       0.0   \n",
       "\n",
       "       Other.6   Analog Channel 0   Analog Channel 1   Analog Channel 2  \\\n",
       "124      176.0                0.0                0.0                0.0   \n",
       "125        0.0                0.0                0.0                0.0   \n",
       "126        0.0                0.0                0.0                0.0   \n",
       "127        0.0                0.0                0.0                0.0   \n",
       "128        0.0                0.0                0.0                0.0   \n",
       "...        ...                ...                ...                ...   \n",
       "7048       0.0                0.0                0.0                0.0   \n",
       "7049       0.0                0.0                0.0                0.0   \n",
       "7050       0.0                0.0                0.0                0.0   \n",
       "7051      48.0                0.0                0.0                0.0   \n",
       "7052       0.0                0.0                0.0                0.0   \n",
       "\n",
       "         Timestamp   Other.7     Timestamp (Formatted)  \n",
       "124   1.666408e+09       0.0   2022-10-21 20:04:39.720  \n",
       "125   1.666408e+09       0.0   2022-10-21 20:04:39.720  \n",
       "126   1.666408e+09       0.0   2022-10-21 20:04:39.720  \n",
       "127   1.666408e+09       0.0   2022-10-21 20:04:39.720  \n",
       "128   1.666408e+09       0.0   2022-10-21 20:04:39.720  \n",
       "...            ...       ...                       ...  \n",
       "7048  1.666408e+09       0.0   2022-10-21 20:05:07.065  \n",
       "7049  1.666408e+09       0.0   2022-10-21 20:05:07.065  \n",
       "7050  1.666408e+09       0.0   2022-10-21 20:05:07.542  \n",
       "7051  1.666408e+09       0.0   2022-10-21 20:05:07.542  \n",
       "7052  1.666408e+09       0.0   2022-10-21 20:05:07.542  \n",
       "\n",
       "[6929 rows x 25 columns]"
      ]
     },
     "execution_count": 98,
     "metadata": {},
     "output_type": "execute_result"
    }
   ],
   "source": [
    "dataset[1]"
   ]
  },
  {
   "cell_type": "code",
   "execution_count": 99,
   "metadata": {},
   "outputs": [
    {
     "data": {
      "text/html": [
       "<div>\n",
       "<style scoped>\n",
       "    .dataframe tbody tr th:only-of-type {\n",
       "        vertical-align: middle;\n",
       "    }\n",
       "\n",
       "    .dataframe tbody tr th {\n",
       "        vertical-align: top;\n",
       "    }\n",
       "\n",
       "    .dataframe thead th {\n",
       "        text-align: right;\n",
       "    }\n",
       "</style>\n",
       "<table border=\"1\" class=\"dataframe\">\n",
       "  <thead>\n",
       "    <tr style=\"text-align: right;\">\n",
       "      <th></th>\n",
       "      <th>Sample Index</th>\n",
       "      <th>EXG Channel 0</th>\n",
       "      <th>EXG Channel 1</th>\n",
       "      <th>EXG Channel 2</th>\n",
       "      <th>EXG Channel 3</th>\n",
       "      <th>EXG Channel 4</th>\n",
       "      <th>EXG Channel 5</th>\n",
       "      <th>EXG Channel 6</th>\n",
       "      <th>EXG Channel 7</th>\n",
       "    </tr>\n",
       "  </thead>\n",
       "  <tbody>\n",
       "    <tr>\n",
       "      <th>124</th>\n",
       "      <td>1.0</td>\n",
       "      <td>-144916.171720</td>\n",
       "      <td>-157124.873355</td>\n",
       "      <td>51412.834396</td>\n",
       "      <td>-84025.840047</td>\n",
       "      <td>72751.798958</td>\n",
       "      <td>-73386.655556</td>\n",
       "      <td>85846.501392</td>\n",
       "      <td>-127909.578730</td>\n",
       "    </tr>\n",
       "    <tr>\n",
       "      <th>125</th>\n",
       "      <td>2.0</td>\n",
       "      <td>-144920.038571</td>\n",
       "      <td>-157125.588611</td>\n",
       "      <td>51407.849956</td>\n",
       "      <td>-84023.783687</td>\n",
       "      <td>72750.837833</td>\n",
       "      <td>-73360.861642</td>\n",
       "      <td>85878.822014</td>\n",
       "      <td>-127909.981061</td>\n",
       "    </tr>\n",
       "    <tr>\n",
       "      <th>126</th>\n",
       "      <td>3.0</td>\n",
       "      <td>-144929.336897</td>\n",
       "      <td>-157135.624544</td>\n",
       "      <td>51393.813061</td>\n",
       "      <td>-84046.157783</td>\n",
       "      <td>72739.036112</td>\n",
       "      <td>-73355.899555</td>\n",
       "      <td>85876.229212</td>\n",
       "      <td>-127921.983948</td>\n",
       "    </tr>\n",
       "    <tr>\n",
       "      <th>127</th>\n",
       "      <td>4.0</td>\n",
       "      <td>-144925.291231</td>\n",
       "      <td>-157134.037570</td>\n",
       "      <td>51393.813061</td>\n",
       "      <td>-84050.136393</td>\n",
       "      <td>72737.404434</td>\n",
       "      <td>-73382.609890</td>\n",
       "      <td>85843.126278</td>\n",
       "      <td>-127926.968387</td>\n",
       "    </tr>\n",
       "    <tr>\n",
       "      <th>128</th>\n",
       "      <td>5.0</td>\n",
       "      <td>-144920.284441</td>\n",
       "      <td>-157131.645934</td>\n",
       "      <td>51397.478747</td>\n",
       "      <td>-84053.556210</td>\n",
       "      <td>72735.951571</td>\n",
       "      <td>-73401.385355</td>\n",
       "      <td>85829.245845</td>\n",
       "      <td>-127915.032555</td>\n",
       "    </tr>\n",
       "    <tr>\n",
       "      <th>...</th>\n",
       "      <td>...</td>\n",
       "      <td>...</td>\n",
       "      <td>...</td>\n",
       "      <td>...</td>\n",
       "      <td>...</td>\n",
       "      <td>...</td>\n",
       "      <td>...</td>\n",
       "      <td>...</td>\n",
       "      <td>...</td>\n",
       "    </tr>\n",
       "    <tr>\n",
       "      <th>7048</th>\n",
       "      <td>13.0</td>\n",
       "      <td>-148004.914582</td>\n",
       "      <td>-158268.030973</td>\n",
       "      <td>47038.061564</td>\n",
       "      <td>-85224.988785</td>\n",
       "      <td>73478.945908</td>\n",
       "      <td>-72534.338836</td>\n",
       "      <td>86159.179945</td>\n",
       "      <td>-128103.122485</td>\n",
       "    </tr>\n",
       "    <tr>\n",
       "      <th>7049</th>\n",
       "      <td>14.0</td>\n",
       "      <td>-148002.031207</td>\n",
       "      <td>-158264.477046</td>\n",
       "      <td>47038.888578</td>\n",
       "      <td>-85230.017928</td>\n",
       "      <td>73483.371554</td>\n",
       "      <td>-72551.996714</td>\n",
       "      <td>86128.759221</td>\n",
       "      <td>-128105.223549</td>\n",
       "    </tr>\n",
       "    <tr>\n",
       "      <th>7050</th>\n",
       "      <td>15.0</td>\n",
       "      <td>-148000.801861</td>\n",
       "      <td>-158262.353630</td>\n",
       "      <td>47041.637843</td>\n",
       "      <td>-85229.101506</td>\n",
       "      <td>73485.182045</td>\n",
       "      <td>-72570.213386</td>\n",
       "      <td>86115.437581</td>\n",
       "      <td>-128099.345040</td>\n",
       "    </tr>\n",
       "    <tr>\n",
       "      <th>7051</th>\n",
       "      <td>16.0</td>\n",
       "      <td>-148007.261516</td>\n",
       "      <td>-158270.735535</td>\n",
       "      <td>47038.463895</td>\n",
       "      <td>-85228.363899</td>\n",
       "      <td>73478.923557</td>\n",
       "      <td>-72556.735284</td>\n",
       "      <td>86141.522067</td>\n",
       "      <td>-128102.362526</td>\n",
       "    </tr>\n",
       "    <tr>\n",
       "      <th>7052</th>\n",
       "      <td>17.0</td>\n",
       "      <td>-147996.912658</td>\n",
       "      <td>-158264.097066</td>\n",
       "      <td>47044.342404</td>\n",
       "      <td>-85223.401812</td>\n",
       "      <td>73487.417220</td>\n",
       "      <td>-72527.409795</td>\n",
       "      <td>86168.299457</td>\n",
       "      <td>-128095.813465</td>\n",
       "    </tr>\n",
       "  </tbody>\n",
       "</table>\n",
       "<p>6929 rows × 9 columns</p>\n",
       "</div>"
      ],
      "text/plain": [
       "      Sample Index   EXG Channel 0   EXG Channel 1   EXG Channel 2  \\\n",
       "124            1.0  -144916.171720  -157124.873355    51412.834396   \n",
       "125            2.0  -144920.038571  -157125.588611    51407.849956   \n",
       "126            3.0  -144929.336897  -157135.624544    51393.813061   \n",
       "127            4.0  -144925.291231  -157134.037570    51393.813061   \n",
       "128            5.0  -144920.284441  -157131.645934    51397.478747   \n",
       "...            ...             ...             ...             ...   \n",
       "7048          13.0  -148004.914582  -158268.030973    47038.061564   \n",
       "7049          14.0  -148002.031207  -158264.477046    47038.888578   \n",
       "7050          15.0  -148000.801861  -158262.353630    47041.637843   \n",
       "7051          16.0  -148007.261516  -158270.735535    47038.463895   \n",
       "7052          17.0  -147996.912658  -158264.097066    47044.342404   \n",
       "\n",
       "       EXG Channel 3   EXG Channel 4   EXG Channel 5   EXG Channel 6  \\\n",
       "124    -84025.840047    72751.798958   -73386.655556    85846.501392   \n",
       "125    -84023.783687    72750.837833   -73360.861642    85878.822014   \n",
       "126    -84046.157783    72739.036112   -73355.899555    85876.229212   \n",
       "127    -84050.136393    72737.404434   -73382.609890    85843.126278   \n",
       "128    -84053.556210    72735.951571   -73401.385355    85829.245845   \n",
       "...              ...             ...             ...             ...   \n",
       "7048   -85224.988785    73478.945908   -72534.338836    86159.179945   \n",
       "7049   -85230.017928    73483.371554   -72551.996714    86128.759221   \n",
       "7050   -85229.101506    73485.182045   -72570.213386    86115.437581   \n",
       "7051   -85228.363899    73478.923557   -72556.735284    86141.522067   \n",
       "7052   -85223.401812    73487.417220   -72527.409795    86168.299457   \n",
       "\n",
       "       EXG Channel 7  \n",
       "124   -127909.578730  \n",
       "125   -127909.981061  \n",
       "126   -127921.983948  \n",
       "127   -127926.968387  \n",
       "128   -127915.032555  \n",
       "...              ...  \n",
       "7048  -128103.122485  \n",
       "7049  -128105.223549  \n",
       "7050  -128099.345040  \n",
       "7051  -128102.362526  \n",
       "7052  -128095.813465  \n",
       "\n",
       "[6929 rows x 9 columns]"
      ]
     },
     "execution_count": 99,
     "metadata": {},
     "output_type": "execute_result"
    }
   ],
   "source": [
    "for data in dataset:\n",
    "    data.drop(data.iloc[:, 9:25], axis=1, inplace=True)\n",
    "    \n",
    "\n",
    "dataset[1]"
   ]
  },
  {
   "cell_type": "code",
   "execution_count": 100,
   "metadata": {},
   "outputs": [
    {
     "data": {
      "text/html": [
       "<div>\n",
       "<style scoped>\n",
       "    .dataframe tbody tr th:only-of-type {\n",
       "        vertical-align: middle;\n",
       "    }\n",
       "\n",
       "    .dataframe tbody tr th {\n",
       "        vertical-align: top;\n",
       "    }\n",
       "\n",
       "    .dataframe thead th {\n",
       "        text-align: right;\n",
       "    }\n",
       "</style>\n",
       "<table border=\"1\" class=\"dataframe\">\n",
       "  <thead>\n",
       "    <tr style=\"text-align: right;\">\n",
       "      <th></th>\n",
       "      <th>Sample Index</th>\n",
       "      <th>EXG Channel 0</th>\n",
       "      <th>EXG Channel 1</th>\n",
       "      <th>EXG Channel 2</th>\n",
       "      <th>EXG Channel 3</th>\n",
       "      <th>EXG Channel 4</th>\n",
       "      <th>EXG Channel 5</th>\n",
       "      <th>EXG Channel 6</th>\n",
       "      <th>EXG Channel 7</th>\n",
       "    </tr>\n",
       "  </thead>\n",
       "  <tbody>\n",
       "    <tr>\n",
       "      <th>124</th>\n",
       "      <td>1.0</td>\n",
       "      <td>-158210.542287</td>\n",
       "      <td>-169878.376410</td>\n",
       "      <td>63245.736151</td>\n",
       "      <td>-60431.606821</td>\n",
       "      <td>79400.615919</td>\n",
       "      <td>-77389.830636</td>\n",
       "      <td>91881.025360</td>\n",
       "      <td>-128341.950875</td>\n",
       "    </tr>\n",
       "    <tr>\n",
       "      <th>125</th>\n",
       "      <td>2.0</td>\n",
       "      <td>-158208.977665</td>\n",
       "      <td>-169874.911889</td>\n",
       "      <td>63246.585518</td>\n",
       "      <td>-60434.221975</td>\n",
       "      <td>79397.754895</td>\n",
       "      <td>-77396.044421</td>\n",
       "      <td>91870.274171</td>\n",
       "      <td>-128339.000444</td>\n",
       "    </tr>\n",
       "    <tr>\n",
       "      <th>126</th>\n",
       "      <td>3.0</td>\n",
       "      <td>-158205.937827</td>\n",
       "      <td>-169869.882747</td>\n",
       "      <td>63246.630221</td>\n",
       "      <td>-60434.110216</td>\n",
       "      <td>79387.987183</td>\n",
       "      <td>-77380.956993</td>\n",
       "      <td>91905.656982</td>\n",
       "      <td>-128333.703081</td>\n",
       "    </tr>\n",
       "    <tr>\n",
       "      <th>127</th>\n",
       "      <td>4.0</td>\n",
       "      <td>-158205.423737</td>\n",
       "      <td>-169868.586346</td>\n",
       "      <td>63243.791550</td>\n",
       "      <td>-60436.680667</td>\n",
       "      <td>79386.623727</td>\n",
       "      <td>-77365.623697</td>\n",
       "      <td>91926.175884</td>\n",
       "      <td>-128335.312406</td>\n",
       "    </tr>\n",
       "    <tr>\n",
       "      <th>128</th>\n",
       "      <td>5.0</td>\n",
       "      <td>-158208.284761</td>\n",
       "      <td>-169872.229680</td>\n",
       "      <td>63238.382427</td>\n",
       "      <td>-60448.527092</td>\n",
       "      <td>79376.319572</td>\n",
       "      <td>-77388.847159</td>\n",
       "      <td>91886.613296</td>\n",
       "      <td>-128342.844944</td>\n",
       "    </tr>\n",
       "    <tr>\n",
       "      <th>...</th>\n",
       "      <td>...</td>\n",
       "      <td>...</td>\n",
       "      <td>...</td>\n",
       "      <td>...</td>\n",
       "      <td>...</td>\n",
       "      <td>...</td>\n",
       "      <td>...</td>\n",
       "      <td>...</td>\n",
       "      <td>...</td>\n",
       "    </tr>\n",
       "    <tr>\n",
       "      <th>7172</th>\n",
       "      <td>137.0</td>\n",
       "      <td>-158325.229087</td>\n",
       "      <td>-169917.782535</td>\n",
       "      <td>62975.280044</td>\n",
       "      <td>-60568.019517</td>\n",
       "      <td>79129.399851</td>\n",
       "      <td>-76648.445624</td>\n",
       "      <td>91964.598532</td>\n",
       "      <td>-128260.657580</td>\n",
       "    </tr>\n",
       "    <tr>\n",
       "      <th>7173</th>\n",
       "      <td>138.0</td>\n",
       "      <td>-158325.117329</td>\n",
       "      <td>-169916.530838</td>\n",
       "      <td>62972.731945</td>\n",
       "      <td>-60577.384898</td>\n",
       "      <td>79127.410546</td>\n",
       "      <td>-76674.954793</td>\n",
       "      <td>91925.281814</td>\n",
       "      <td>-128266.692551</td>\n",
       "    </tr>\n",
       "    <tr>\n",
       "      <th>7174</th>\n",
       "      <td>139.0</td>\n",
       "      <td>-158331.644038</td>\n",
       "      <td>-169922.565809</td>\n",
       "      <td>62968.239244</td>\n",
       "      <td>-60579.530666</td>\n",
       "      <td>79125.980035</td>\n",
       "      <td>-76693.864369</td>\n",
       "      <td>91900.583136</td>\n",
       "      <td>-128265.530260</td>\n",
       "    </tr>\n",
       "    <tr>\n",
       "      <th>7175</th>\n",
       "      <td>140.0</td>\n",
       "      <td>-158342.216413</td>\n",
       "      <td>-169929.383091</td>\n",
       "      <td>62959.052677</td>\n",
       "      <td>-60578.971872</td>\n",
       "      <td>79121.621444</td>\n",
       "      <td>-76674.574813</td>\n",
       "      <td>91929.506293</td>\n",
       "      <td>-128268.972429</td>\n",
       "    </tr>\n",
       "    <tr>\n",
       "      <th>7176</th>\n",
       "      <td>141.0</td>\n",
       "      <td>-158342.909317</td>\n",
       "      <td>-169929.494849</td>\n",
       "      <td>62961.511369</td>\n",
       "      <td>-60578.971872</td>\n",
       "      <td>79125.823572</td>\n",
       "      <td>-76653.094787</td>\n",
       "      <td>91960.754032</td>\n",
       "      <td>-128265.172632</td>\n",
       "    </tr>\n",
       "  </tbody>\n",
       "</table>\n",
       "<p>7053 rows × 9 columns</p>\n",
       "</div>"
      ],
      "text/plain": [
       "      Sample Index   EXG Channel 0   EXG Channel 1   EXG Channel 2  \\\n",
       "124            1.0  -158210.542287  -169878.376410    63245.736151   \n",
       "125            2.0  -158208.977665  -169874.911889    63246.585518   \n",
       "126            3.0  -158205.937827  -169869.882747    63246.630221   \n",
       "127            4.0  -158205.423737  -169868.586346    63243.791550   \n",
       "128            5.0  -158208.284761  -169872.229680    63238.382427   \n",
       "...            ...             ...             ...             ...   \n",
       "7172         137.0  -158325.229087  -169917.782535    62975.280044   \n",
       "7173         138.0  -158325.117329  -169916.530838    62972.731945   \n",
       "7174         139.0  -158331.644038  -169922.565809    62968.239244   \n",
       "7175         140.0  -158342.216413  -169929.383091    62959.052677   \n",
       "7176         141.0  -158342.909317  -169929.494849    62961.511369   \n",
       "\n",
       "       EXG Channel 3   EXG Channel 4   EXG Channel 5   EXG Channel 6  \\\n",
       "124    -60431.606821    79400.615919   -77389.830636    91881.025360   \n",
       "125    -60434.221975    79397.754895   -77396.044421    91870.274171   \n",
       "126    -60434.110216    79387.987183   -77380.956993    91905.656982   \n",
       "127    -60436.680667    79386.623727   -77365.623697    91926.175884   \n",
       "128    -60448.527092    79376.319572   -77388.847159    91886.613296   \n",
       "...              ...             ...             ...             ...   \n",
       "7172   -60568.019517    79129.399851   -76648.445624    91964.598532   \n",
       "7173   -60577.384898    79127.410546   -76674.954793    91925.281814   \n",
       "7174   -60579.530666    79125.980035   -76693.864369    91900.583136   \n",
       "7175   -60578.971872    79121.621444   -76674.574813    91929.506293   \n",
       "7176   -60578.971872    79125.823572   -76653.094787    91960.754032   \n",
       "\n",
       "       EXG Channel 7  \n",
       "124   -128341.950875  \n",
       "125   -128339.000444  \n",
       "126   -128333.703081  \n",
       "127   -128335.312406  \n",
       "128   -128342.844944  \n",
       "...              ...  \n",
       "7172  -128260.657580  \n",
       "7173  -128266.692551  \n",
       "7174  -128265.530260  \n",
       "7175  -128268.972429  \n",
       "7176  -128265.172632  \n",
       "\n",
       "[7053 rows x 9 columns]"
      ]
     },
     "execution_count": 100,
     "metadata": {},
     "output_type": "execute_result"
    }
   ],
   "source": [
    "dataset[30]"
   ]
  },
  {
   "cell_type": "code",
   "execution_count": 101,
   "metadata": {},
   "outputs": [
    {
     "data": {
      "text/plain": [
       "32"
      ]
     },
     "execution_count": 101,
     "metadata": {},
     "output_type": "execute_result"
    }
   ],
   "source": [
    "dataset.__len__()"
   ]
  },
  {
   "cell_type": "code",
   "execution_count": 102,
   "metadata": {},
   "outputs": [
    {
     "data": {
      "text/plain": [
       "0"
      ]
     },
     "execution_count": 102,
     "metadata": {},
     "output_type": "execute_result"
    }
   ],
   "source": [
    "i =0;\n",
    "for data in dataset:\n",
    "  if data.shape[0] < 6144:\n",
    "    i=i+1\n",
    "i"
   ]
  },
  {
   "cell_type": "code",
   "execution_count": 183,
   "metadata": {},
   "outputs": [
    {
     "data": {
      "text/plain": [
       "27.2"
      ]
     },
     "execution_count": 183,
     "metadata": {},
     "output_type": "execute_result"
    }
   ],
   "source": [
    "32*0.85"
   ]
  },
  {
   "cell_type": "code",
   "execution_count": 193,
   "metadata": {},
   "outputs": [
    {
     "data": {
      "text/plain": [
       "0.17647058823529413"
      ]
     },
     "execution_count": 193,
     "metadata": {},
     "output_type": "execute_result"
    }
   ],
   "source": [
    "1.5/8.5"
   ]
  },
  {
   "cell_type": "code",
   "execution_count": 184,
   "metadata": {},
   "outputs": [],
   "source": [
    "data_train = dataset[0:26]\n",
    "data_test = dataset[27:31]"
   ]
  },
  {
   "cell_type": "code",
   "execution_count": 186,
   "metadata": {},
   "outputs": [],
   "source": [
    "from sklearn.preprocessing import MinMaxScaler\n",
    "scaler =MinMaxScaler()\n",
    "i=0\n",
    "for data in dataset[0:26]:\n",
    "  data_train[i] = pd.DataFrame(scaler.fit_transform(data), columns=data.columns, index=data.index)\n",
    "  i=i+1\n",
    "i=0\n",
    "for data in dataset[27:31]:\n",
    "  data_test[i] = pd.DataFrame(scaler.fit_transform(data), columns=data.columns, index=data.index)\n",
    "  i=i+1"
   ]
  },
  {
   "cell_type": "code",
   "execution_count": 188,
   "metadata": {},
   "outputs": [
    {
     "data": {
      "application/vnd.jupyter.widget-view+json": {
       "model_id": "c806570e49a24b3492314604ecc3502b",
       "version_major": 2,
       "version_minor": 0
      },
      "text/plain": [
       "HBox(children=(IntProgress(value=0, max=2), HTML(value='')))"
      ]
     },
     "metadata": {},
     "output_type": "display_data"
    },
    {
     "name": "stdout",
     "output_type": "stream",
     "text": [
      "\n"
     ]
    },
    {
     "data": {
      "application/vnd.jupyter.widget-view+json": {
       "model_id": "ec49f24c3290442bac15d56491993c22",
       "version_major": 2,
       "version_minor": 0
      },
      "text/plain": [
       "HBox(children=(IntProgress(value=0, max=2), HTML(value='')))"
      ]
     },
     "metadata": {},
     "output_type": "display_data"
    },
    {
     "name": "stdout",
     "output_type": "stream",
     "text": [
      "\n"
     ]
    },
    {
     "data": {
      "application/vnd.jupyter.widget-view+json": {
       "model_id": "ac3ba040f28647aba3392c5b1a9caafd",
       "version_major": 2,
       "version_minor": 0
      },
      "text/plain": [
       "HBox(children=(IntProgress(value=0, max=2), HTML(value='')))"
      ]
     },
     "metadata": {},
     "output_type": "display_data"
    },
    {
     "name": "stdout",
     "output_type": "stream",
     "text": [
      "\n"
     ]
    },
    {
     "data": {
      "application/vnd.jupyter.widget-view+json": {
       "model_id": "539b2f9f18b0475c8c0e98acbc13135d",
       "version_major": 2,
       "version_minor": 0
      },
      "text/plain": [
       "HBox(children=(IntProgress(value=0, max=2), HTML(value='')))"
      ]
     },
     "metadata": {},
     "output_type": "display_data"
    },
    {
     "name": "stdout",
     "output_type": "stream",
     "text": [
      "\n"
     ]
    },
    {
     "data": {
      "application/vnd.jupyter.widget-view+json": {
       "model_id": "d525c11d5b454f41aee6d31d355534a6",
       "version_major": 2,
       "version_minor": 0
      },
      "text/plain": [
       "HBox(children=(IntProgress(value=0, max=2), HTML(value='')))"
      ]
     },
     "metadata": {},
     "output_type": "display_data"
    },
    {
     "name": "stdout",
     "output_type": "stream",
     "text": [
      "\n"
     ]
    },
    {
     "data": {
      "application/vnd.jupyter.widget-view+json": {
       "model_id": "cb0f539075714df89ed5287eb9342c30",
       "version_major": 2,
       "version_minor": 0
      },
      "text/plain": [
       "HBox(children=(IntProgress(value=0, max=2), HTML(value='')))"
      ]
     },
     "metadata": {},
     "output_type": "display_data"
    },
    {
     "name": "stdout",
     "output_type": "stream",
     "text": [
      "\n"
     ]
    },
    {
     "data": {
      "application/vnd.jupyter.widget-view+json": {
       "model_id": "e3bc2e7b40ea4f1d8a816966dbed263b",
       "version_major": 2,
       "version_minor": 0
      },
      "text/plain": [
       "HBox(children=(IntProgress(value=0, max=2), HTML(value='')))"
      ]
     },
     "metadata": {},
     "output_type": "display_data"
    },
    {
     "name": "stdout",
     "output_type": "stream",
     "text": [
      "\n"
     ]
    },
    {
     "data": {
      "application/vnd.jupyter.widget-view+json": {
       "model_id": "4e60880476a049108557746c5c3e20d6",
       "version_major": 2,
       "version_minor": 0
      },
      "text/plain": [
       "HBox(children=(IntProgress(value=0, max=2), HTML(value='')))"
      ]
     },
     "metadata": {},
     "output_type": "display_data"
    },
    {
     "name": "stdout",
     "output_type": "stream",
     "text": [
      "\n"
     ]
    },
    {
     "data": {
      "application/vnd.jupyter.widget-view+json": {
       "model_id": "2c987abd0be64e32957f59180cf912de",
       "version_major": 2,
       "version_minor": 0
      },
      "text/plain": [
       "HBox(children=(IntProgress(value=0, max=2), HTML(value='')))"
      ]
     },
     "metadata": {},
     "output_type": "display_data"
    },
    {
     "name": "stdout",
     "output_type": "stream",
     "text": [
      "\n"
     ]
    },
    {
     "data": {
      "application/vnd.jupyter.widget-view+json": {
       "model_id": "f46826efa1eb4bc69117d878f091a503",
       "version_major": 2,
       "version_minor": 0
      },
      "text/plain": [
       "HBox(children=(IntProgress(value=0, max=2), HTML(value='')))"
      ]
     },
     "metadata": {},
     "output_type": "display_data"
    },
    {
     "name": "stdout",
     "output_type": "stream",
     "text": [
      "\n"
     ]
    },
    {
     "data": {
      "application/vnd.jupyter.widget-view+json": {
       "model_id": "a8d035b7a4ad4d86a0d1813b86a3e2a3",
       "version_major": 2,
       "version_minor": 0
      },
      "text/plain": [
       "HBox(children=(IntProgress(value=0, max=2), HTML(value='')))"
      ]
     },
     "metadata": {},
     "output_type": "display_data"
    },
    {
     "name": "stdout",
     "output_type": "stream",
     "text": [
      "\n"
     ]
    },
    {
     "data": {
      "application/vnd.jupyter.widget-view+json": {
       "model_id": "51e6f68c621e4bcb90ecee378361f2dd",
       "version_major": 2,
       "version_minor": 0
      },
      "text/plain": [
       "HBox(children=(IntProgress(value=0, max=2), HTML(value='')))"
      ]
     },
     "metadata": {},
     "output_type": "display_data"
    },
    {
     "name": "stdout",
     "output_type": "stream",
     "text": [
      "\n"
     ]
    },
    {
     "data": {
      "application/vnd.jupyter.widget-view+json": {
       "model_id": "6c0fbba159c74209908585403a5667dc",
       "version_major": 2,
       "version_minor": 0
      },
      "text/plain": [
       "HBox(children=(IntProgress(value=0, max=2), HTML(value='')))"
      ]
     },
     "metadata": {},
     "output_type": "display_data"
    },
    {
     "name": "stdout",
     "output_type": "stream",
     "text": [
      "\n"
     ]
    },
    {
     "data": {
      "application/vnd.jupyter.widget-view+json": {
       "model_id": "5eef01292f354cc5a017868c72e7fd8c",
       "version_major": 2,
       "version_minor": 0
      },
      "text/plain": [
       "HBox(children=(IntProgress(value=0, max=2), HTML(value='')))"
      ]
     },
     "metadata": {},
     "output_type": "display_data"
    },
    {
     "name": "stdout",
     "output_type": "stream",
     "text": [
      "\n"
     ]
    },
    {
     "data": {
      "application/vnd.jupyter.widget-view+json": {
       "model_id": "63d2e4c081094c08b2f8860689b7bfc0",
       "version_major": 2,
       "version_minor": 0
      },
      "text/plain": [
       "HBox(children=(IntProgress(value=0, max=2), HTML(value='')))"
      ]
     },
     "metadata": {},
     "output_type": "display_data"
    },
    {
     "name": "stdout",
     "output_type": "stream",
     "text": [
      "\n"
     ]
    },
    {
     "data": {
      "application/vnd.jupyter.widget-view+json": {
       "model_id": "582443fd5fda4f318a92a8283f5a8dd4",
       "version_major": 2,
       "version_minor": 0
      },
      "text/plain": [
       "HBox(children=(IntProgress(value=0, max=2), HTML(value='')))"
      ]
     },
     "metadata": {},
     "output_type": "display_data"
    },
    {
     "name": "stdout",
     "output_type": "stream",
     "text": [
      "\n"
     ]
    },
    {
     "data": {
      "application/vnd.jupyter.widget-view+json": {
       "model_id": "d017139095164f3281e4e827431ca750",
       "version_major": 2,
       "version_minor": 0
      },
      "text/plain": [
       "HBox(children=(IntProgress(value=0, max=2), HTML(value='')))"
      ]
     },
     "metadata": {},
     "output_type": "display_data"
    },
    {
     "name": "stdout",
     "output_type": "stream",
     "text": [
      "\n"
     ]
    },
    {
     "data": {
      "application/vnd.jupyter.widget-view+json": {
       "model_id": "fd2f321b2c764252a22455056c1b5e8d",
       "version_major": 2,
       "version_minor": 0
      },
      "text/plain": [
       "HBox(children=(IntProgress(value=0, max=2), HTML(value='')))"
      ]
     },
     "metadata": {},
     "output_type": "display_data"
    },
    {
     "name": "stdout",
     "output_type": "stream",
     "text": [
      "\n"
     ]
    },
    {
     "data": {
      "application/vnd.jupyter.widget-view+json": {
       "model_id": "1bde643df60942e7936cedeffc26423e",
       "version_major": 2,
       "version_minor": 0
      },
      "text/plain": [
       "HBox(children=(IntProgress(value=0, max=2), HTML(value='')))"
      ]
     },
     "metadata": {},
     "output_type": "display_data"
    },
    {
     "name": "stdout",
     "output_type": "stream",
     "text": [
      "\n"
     ]
    },
    {
     "data": {
      "application/vnd.jupyter.widget-view+json": {
       "model_id": "24de56bcc0aa4f76bea247674fc5e984",
       "version_major": 2,
       "version_minor": 0
      },
      "text/plain": [
       "HBox(children=(IntProgress(value=0, max=2), HTML(value='')))"
      ]
     },
     "metadata": {},
     "output_type": "display_data"
    },
    {
     "name": "stdout",
     "output_type": "stream",
     "text": [
      "\n"
     ]
    },
    {
     "data": {
      "application/vnd.jupyter.widget-view+json": {
       "model_id": "f26602dc44454519a8008ebdbde01675",
       "version_major": 2,
       "version_minor": 0
      },
      "text/plain": [
       "HBox(children=(IntProgress(value=0, max=2), HTML(value='')))"
      ]
     },
     "metadata": {},
     "output_type": "display_data"
    },
    {
     "name": "stdout",
     "output_type": "stream",
     "text": [
      "\n"
     ]
    },
    {
     "data": {
      "application/vnd.jupyter.widget-view+json": {
       "model_id": "56509f20ec6b42e68eb8b95955c5c334",
       "version_major": 2,
       "version_minor": 0
      },
      "text/plain": [
       "HBox(children=(IntProgress(value=0, max=2), HTML(value='')))"
      ]
     },
     "metadata": {},
     "output_type": "display_data"
    },
    {
     "name": "stdout",
     "output_type": "stream",
     "text": [
      "\n"
     ]
    },
    {
     "data": {
      "application/vnd.jupyter.widget-view+json": {
       "model_id": "3b62987767c44c4d98ef97be104d7874",
       "version_major": 2,
       "version_minor": 0
      },
      "text/plain": [
       "HBox(children=(IntProgress(value=0, max=2), HTML(value='')))"
      ]
     },
     "metadata": {},
     "output_type": "display_data"
    },
    {
     "name": "stdout",
     "output_type": "stream",
     "text": [
      "\n"
     ]
    },
    {
     "data": {
      "application/vnd.jupyter.widget-view+json": {
       "model_id": "83861adc3a9d4dc480501ff28e7a08d4",
       "version_major": 2,
       "version_minor": 0
      },
      "text/plain": [
       "HBox(children=(IntProgress(value=0, max=2), HTML(value='')))"
      ]
     },
     "metadata": {},
     "output_type": "display_data"
    },
    {
     "name": "stdout",
     "output_type": "stream",
     "text": [
      "\n"
     ]
    },
    {
     "data": {
      "application/vnd.jupyter.widget-view+json": {
       "model_id": "e44f49a4c0a945a4b448917e760bf7bc",
       "version_major": 2,
       "version_minor": 0
      },
      "text/plain": [
       "HBox(children=(IntProgress(value=0, max=2), HTML(value='')))"
      ]
     },
     "metadata": {},
     "output_type": "display_data"
    },
    {
     "name": "stdout",
     "output_type": "stream",
     "text": [
      "\n"
     ]
    },
    {
     "data": {
      "application/vnd.jupyter.widget-view+json": {
       "model_id": "de98191372fa4acda588e12b33d3dfa8",
       "version_major": 2,
       "version_minor": 0
      },
      "text/plain": [
       "HBox(children=(IntProgress(value=0, max=2), HTML(value='')))"
      ]
     },
     "metadata": {},
     "output_type": "display_data"
    },
    {
     "name": "stdout",
     "output_type": "stream",
     "text": [
      "\n"
     ]
    }
   ],
   "source": [
    "import tqdm #0 is R\n",
    "n=256*7\n",
    "feature_names=list(data_train[0].drop('Sample Index',axis=1).columns)\n",
    "X=[]\n",
    "Y=[]\n",
    "X_val = []\n",
    "Y_val = []\n",
    "indexes=[]\n",
    "for data in data_train:\n",
    "  norm_data_x =data[feature_names]\n",
    "  for i in tqdm.tqdm_notebook(range(2)):\n",
    "    X.append(norm_data_x.iloc[i*n:i*n+n].  values)\n",
    "    Y.append(i)\n",
    "    indexes.append(data.index[i+n-1])\n"
   ]
  },
  {
   "cell_type": "code",
   "execution_count": 189,
   "metadata": {},
   "outputs": [
    {
     "name": "stdout",
     "output_type": "stream",
     "text": [
      "0\n"
     ]
    }
   ],
   "source": [
    "print(Y[00])"
   ]
  },
  {
   "cell_type": "code",
   "execution_count": 209,
   "metadata": {},
   "outputs": [],
   "source": [
    "from keras.layers import Dense\n",
    "from keras.layers import LSTM\n",
    "from keras.layers import Dropout\n",
    "from keras.models import Sequential\n",
    "from keras.optimizers import adam_v2\n",
    "n_steps=256*7\n",
    "n_features=8\n",
    "model=Sequential()\n",
    "model.add(LSTM(100, activation='relu', return_sequences=False, input_shape=(n_steps, n_features)))\n",
    "model.add(Dropout(0.2))\n",
    "model.add(Dense(1))\n",
    "opt = adam_v2.Adam(learning_rate=0.0005, decay=1e-6)\n",
    "logdir = 'logs'\n",
    "tensorboard_callback = tf.keras.callbacks.TensorBoard(log_dir=logdir)\n",
    "earlystopping = tf.keras.callbacks.EarlyStopping(monitor=\"loss\",mode=\"min\",patience=2,verbose=1,restore_best_weights=True)\n",
    "\n",
    "model.compile(optimizer=\"adam\", loss='mse', metrics=['mape','acc'])"
   ]
  },
  {
   "cell_type": "code",
   "execution_count": 210,
   "metadata": {},
   "outputs": [
    {
     "name": "stdout",
     "output_type": "stream",
     "text": [
      "Epoch 1/20\n",
      "3/3 [==============================] - 3s 506ms/step - loss: 0.3472 - mape: 109486920.0000 - acc: 0.5000\n",
      "Epoch 2/20\n",
      "3/3 [==============================] - 2s 491ms/step - loss: 0.3216 - mape: 232297072.0000 - acc: 0.4038\n",
      "Epoch 3/20\n",
      "3/3 [==============================] - 2s 670ms/step - loss: 0.2964 - mape: 256979024.0000 - acc: 0.3654\n",
      "Epoch 4/20\n",
      "3/3 [==============================] - 2s 489ms/step - loss: 0.2630 - mape: 196594432.0000 - acc: 0.5000\n",
      "Epoch 5/20\n",
      "3/3 [==============================] - 1s 471ms/step - loss: 0.2783 - mape: 195175616.0000 - acc: 0.5000\n",
      "Epoch 6/20\n",
      "3/3 [==============================] - 1s 473ms/step - loss: 0.2397 - mape: 196426976.0000 - acc: 0.6154\n",
      "Epoch 7/20\n",
      "3/3 [==============================] - 2s 497ms/step - loss: 0.2077 - mape: 160670128.0000 - acc: 0.6346\n",
      "Epoch 8/20\n",
      "3/3 [==============================] - 1s 475ms/step - loss: 0.2102 - mape: 168180256.0000 - acc: 0.6731\n",
      "Epoch 9/20\n",
      "3/3 [==============================] - 1s 474ms/step - loss: 0.1898 - mape: 127390128.0000 - acc: 0.6923\n",
      "Epoch 10/20\n",
      "3/3 [==============================] - 1s 465ms/step - loss: 0.1515 - mape: 129451392.0000 - acc: 0.7885\n",
      "Epoch 11/20\n",
      "3/3 [==============================] - 2s 485ms/step - loss: 0.1594 - mape: 154360112.0000 - acc: 0.8077\n",
      "Epoch 12/20\n",
      "3/3 [==============================] - 2s 524ms/step - loss: 0.1485 - mape: 107363184.0000 - acc: 0.7692\n",
      "Epoch 13/20\n",
      "3/3 [==============================] - 2s 546ms/step - loss: 0.1156 - mape: 113108872.0000 - acc: 0.8846\n",
      "Epoch 14/20\n",
      "3/3 [==============================] - 2s 511ms/step - loss: 0.0862 - mape: 105772784.0000 - acc: 0.8846\n",
      "Epoch 15/20\n",
      "3/3 [==============================] - 2s 513ms/step - loss: 0.0958 - mape: 106341296.0000 - acc: 0.9231\n",
      "Epoch 16/20\n",
      "3/3 [==============================] - 2s 572ms/step - loss: 0.0773 - mape: 88145696.0000 - acc: 0.9231\n",
      "Epoch 17/20\n",
      "3/3 [==============================] - 2s 526ms/step - loss: 0.0852 - mape: 99600584.0000 - acc: 0.8846\n",
      "Epoch 18/20\n",
      "3/3 [==============================] - ETA: 0s - loss: nan - mape: nan - acc: 0.9231             Restoring model weights from the end of the best epoch: 16.\n",
      "3/3 [==============================] - 2s 516ms/step - loss: nan - mape: nan - acc: 0.9231\n",
      "Epoch 18: early stopping\n"
     ]
    }
   ],
   "source": [
    "hist = model.fit(x=np.asarray(X),y=np.asarray(Y),batch_size=20,epochs=20,callbacks=earlystopping)"
   ]
  },
  {
   "cell_type": "code",
   "execution_count": 211,
   "metadata": {},
   "outputs": [
    {
     "data": {
      "application/vnd.jupyter.widget-view+json": {
       "model_id": "a85d223fccc24225b5056c5b016022f0",
       "version_major": 2,
       "version_minor": 0
      },
      "text/plain": [
       "HBox(children=(IntProgress(value=0, max=2), HTML(value='')))"
      ]
     },
     "metadata": {},
     "output_type": "display_data"
    },
    {
     "name": "stdout",
     "output_type": "stream",
     "text": [
      "\n"
     ]
    },
    {
     "data": {
      "application/vnd.jupyter.widget-view+json": {
       "model_id": "d33cecc40f9a4ada8a84233a960db802",
       "version_major": 2,
       "version_minor": 0
      },
      "text/plain": [
       "HBox(children=(IntProgress(value=0, max=2), HTML(value='')))"
      ]
     },
     "metadata": {},
     "output_type": "display_data"
    },
    {
     "name": "stdout",
     "output_type": "stream",
     "text": [
      "\n"
     ]
    },
    {
     "data": {
      "application/vnd.jupyter.widget-view+json": {
       "model_id": "0e3cf97986414d09801b074f9518b7ba",
       "version_major": 2,
       "version_minor": 0
      },
      "text/plain": [
       "HBox(children=(IntProgress(value=0, max=2), HTML(value='')))"
      ]
     },
     "metadata": {},
     "output_type": "display_data"
    },
    {
     "name": "stdout",
     "output_type": "stream",
     "text": [
      "\n"
     ]
    },
    {
     "data": {
      "application/vnd.jupyter.widget-view+json": {
       "model_id": "68d1dd6a00f74209acbd6b97de76d4b6",
       "version_major": 2,
       "version_minor": 0
      },
      "text/plain": [
       "HBox(children=(IntProgress(value=0, max=2), HTML(value='')))"
      ]
     },
     "metadata": {},
     "output_type": "display_data"
    },
    {
     "name": "stdout",
     "output_type": "stream",
     "text": [
      "\n"
     ]
    }
   ],
   "source": [
    "n=256*7\n",
    "feature_names=list(data_test[0].drop('Sample Index',axis=1).columns)\n",
    "X_test=[]\n",
    "Y_test=[]\n",
    "indexes=[]\n",
    "for data in data_test:\n",
    "  norm_data_x =data[feature_names]\n",
    "  for i in tqdm.tqdm_notebook(range(2)):\n",
    "    X_test.append(norm_data_x.iloc[i*n:i*n+n].  values)\n",
    "    Y_test.append(i)\n",
    "    indexes.append(data.index[i+n-1])"
   ]
  },
  {
   "cell_type": "code",
   "execution_count": 212,
   "metadata": {},
   "outputs": [
    {
     "name": "stdout",
     "output_type": "stream",
     "text": [
      "1/1 [==============================] - 2s 2s/step\n"
     ]
    },
    {
     "data": {
      "text/html": [
       "<div>\n",
       "<style scoped>\n",
       "    .dataframe tbody tr th:only-of-type {\n",
       "        vertical-align: middle;\n",
       "    }\n",
       "\n",
       "    .dataframe tbody tr th {\n",
       "        vertical-align: top;\n",
       "    }\n",
       "\n",
       "    .dataframe thead th {\n",
       "        text-align: right;\n",
       "    }\n",
       "</style>\n",
       "<table border=\"1\" class=\"dataframe\">\n",
       "  <thead>\n",
       "    <tr style=\"text-align: right;\">\n",
       "      <th></th>\n",
       "      <th>prediction</th>\n",
       "      <th>actual</th>\n",
       "      <th>mae</th>\n",
       "    </tr>\n",
       "  </thead>\n",
       "  <tbody>\n",
       "    <tr>\n",
       "      <th>0</th>\n",
       "      <td>-0.122044</td>\n",
       "      <td>0</td>\n",
       "      <td>0.122044</td>\n",
       "    </tr>\n",
       "    <tr>\n",
       "      <th>1</th>\n",
       "      <td>0.842605</td>\n",
       "      <td>1</td>\n",
       "      <td>0.157395</td>\n",
       "    </tr>\n",
       "    <tr>\n",
       "      <th>2</th>\n",
       "      <td>-0.033515</td>\n",
       "      <td>0</td>\n",
       "      <td>0.033515</td>\n",
       "    </tr>\n",
       "    <tr>\n",
       "      <th>3</th>\n",
       "      <td>1.043931</td>\n",
       "      <td>1</td>\n",
       "      <td>0.043931</td>\n",
       "    </tr>\n",
       "    <tr>\n",
       "      <th>4</th>\n",
       "      <td>0.144459</td>\n",
       "      <td>0</td>\n",
       "      <td>0.144459</td>\n",
       "    </tr>\n",
       "    <tr>\n",
       "      <th>5</th>\n",
       "      <td>0.553559</td>\n",
       "      <td>1</td>\n",
       "      <td>0.446441</td>\n",
       "    </tr>\n",
       "    <tr>\n",
       "      <th>6</th>\n",
       "      <td>0.266126</td>\n",
       "      <td>0</td>\n",
       "      <td>0.266126</td>\n",
       "    </tr>\n",
       "    <tr>\n",
       "      <th>7</th>\n",
       "      <td>0.989717</td>\n",
       "      <td>1</td>\n",
       "      <td>0.010283</td>\n",
       "    </tr>\n",
       "  </tbody>\n",
       "</table>\n",
       "</div>"
      ],
      "text/plain": [
       "   prediction  actual       mae\n",
       "0   -0.122044       0  0.122044\n",
       "1    0.842605       1  0.157395\n",
       "2   -0.033515       0  0.033515\n",
       "3    1.043931       1  0.043931\n",
       "4    0.144459       0  0.144459\n",
       "5    0.553559       1  0.446441\n",
       "6    0.266126       0  0.266126\n",
       "7    0.989717       1  0.010283"
      ]
     },
     "execution_count": 212,
     "metadata": {},
     "output_type": "execute_result"
    }
   ],
   "source": [
    "predictions = model.predict(np.asarray(X_test))\n",
    "predictions = pd.DataFrame(predictions).rename(columns={0: 'prediction'})\n",
    "actual=pd.DataFrame(Y_test).rename(columns={0: 'actual'})\n",
    "final=pd.concat([predictions,actual],axis=1)\n",
    "final['mae']=abs(final['prediction']-final['actual'])\n",
    "final"
   ]
  },
  {
   "cell_type": "code",
   "execution_count": 215,
   "metadata": {},
   "outputs": [
    {
     "name": "stdout",
     "output_type": "stream",
     "text": [
      "INFO:tensorflow:Assets written to: ram://1dbb4537-cedd-49af-80b3-2d52a2e4c14d/assets\n"
     ]
    }
   ],
   "source": [
    "import pickle\n",
    "filename = 'finalized_orientation_model.sav'\n",
    "pickle.dump(model, open(filename, 'wb'))"
   ]
  }
 ],
 "metadata": {
  "kernelspec": {
   "display_name": "Python 3.8.6 64-bit",
   "language": "python",
   "name": "python3"
  },
  "language_info": {
   "codemirror_mode": {
    "name": "ipython",
    "version": 3
   },
   "file_extension": ".py",
   "mimetype": "text/x-python",
   "name": "python",
   "nbconvert_exporter": "python",
   "pygments_lexer": "ipython3",
   "version": "3.8.6"
  },
  "orig_nbformat": 4,
  "vscode": {
   "interpreter": {
    "hash": "0adcc2737ebf6a4a119f135174df96668767fca1ef1112612db5ecadf2b6d608"
   }
  }
 },
 "nbformat": 4,
 "nbformat_minor": 2
}
