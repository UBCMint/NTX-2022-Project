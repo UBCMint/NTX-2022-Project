{
  "metadata": {
    "language_info": {
      "codemirror_mode": {
        "name": "python",
        "version": 3
      },
      "file_extension": ".py",
      "mimetype": "text/x-python",
      "name": "python",
      "nbconvert_exporter": "python",
      "pygments_lexer": "ipython3",
      "version": "3.8"
    },
    "kernelspec": {
      "name": "python",
      "display_name": "Python (Pyodide)",
      "language": "python"
    }
  },
  "nbformat_minor": 4,
  "nbformat": 4,
  "cells": [
    {
      "cell_type": "code",
      "source": "import scipy as sp\nimport matplotlib.pyplot as plt\nimport numpy as np\n\ndef plot(self, data: np.ndarray, type: str = 'Raw'):\n        \"\"\"\n            Create a plot for different types of EEG series: 'Raw' time series,\n            'Filtered' time series, and 'FFT' plot\n            \n            data = [[time (frequency for fft), e1, e2, e3, e4, e5, e6, e7, e8],[time, e1, e2, e3, e4, e5, e6, e7, e8]] each array representing a row in the csv \n            \n            ELECTRODES: variable for the list of electrode names (positions x to y in each array within data)\n                loop through each electrode\n                0-FP1, 1-FP2 2-Cz 3-C5 4-P3 5-Oz 6-P4 7-C6\n\n            time: certain element in each array element \n            \n            create a separater to create space between each electrode plot \n            \n            electrodes (mV)\n            |\n            | //\\\\/\\/\\/\\/\\/\\/\\/\\\n            |\n            | //\\/\\\\/\\\\/\\/\\/\\/\\\\\n            |\n            | \\/\\/\\\\/\\\\\\\\/\\\\\\//\\\n            |\n            | \\/\\/\\\\/\\\\\\\\/\\\\\\//\\\n            |\n            | \\/\\/\\\\/\\\\\\\\/\\\\\\//\\\n            |___________________\n                    time (frequency fft)\n                    \n            loop through each of the electrodes, \n            \n        \"\"\"\n        ELECTRODES = ['FP1', 'FP2', 'Cz', 'C5', 'P3', 'Oz', 'P4', 'C6']\n        \n        if type == 'FFT':\n            fftdata = ifft(data)\n            \n            freq = fftdata[:, 0]\n            FP1 = fftdata[:, 1]\n            FP2 = fftdata[:, 2]\n            Cz = fftdata[:, 3]\n            C5 = fftdata[:, 4]\n            P3 = fftdata[:, 5]\n            Oz = fftdata[:, 6]\n            P4 = fftdata[:, 7]\n            C6 = fftdata[:, 8] \n            \n#             plotFreq = freq[1:int(len(freq)/2)]          # Remove negative reflection\n\n#             plt.plot(plotFreq, plotFftData.real**2 + plotFftData.imag**2)\n            \n            plt.subplot(8, 1, 1)\n            plt.plot(freq, data=FP1)\n            plt.ylabel('FP1')\n                \n            plt.subplot(8, 1, 2)\n            plt.plot(freq, data=FP2)\n            plt.ylabel('FP2')\n                \n            plt.subplot(8, 1, 3)\n            plt.plot(freq, data=Cz)\n            plt.ylabel('Cz')\n            \n            plt.subplot(8, 1, 4)\n            plt.plot(freq, data=C5)\n            plt.ylabel('C5')\n                \n            plt.subplot(8, 1, 5)\n            plt.plot(freq, data=P3)\n            plt.ylabel('P3')\n        \n            plt.subplot(8, 1, 6)\n            plt.plot(freq, data=Oz)\n            plt.ylabel('Oz')\n            \n            plt.subplot(8, 1, 7)\n            plt.plot(freq, data=P4)\n            plt.ylabel('P4')\n            \n            plt.subplot(8, 1, 8)\n            plt.plot(freq, data=C6)\n            plt.ylabel('C6')\n            \n            plt.xlabel('Frequency (Hz)')\n            plt.title('FFT')\n            plt.show()\n        \n        else: \n                \n            time = data[:, 0] \n            FP1 = data[:, 1]\n            FP2 = data[:, 2]\n            Cz = data[:, 3]\n            C5 = data[:, 4]\n            P3 = data[:, 5]\n            Oz = data[:, 6]\n            P4 = data[:, 7]\n            C6 = data[:, 8] \n            \n            plt.subplot(8, 1, 1)\n            plt.plot(time, data=FP1)\n            plt.ylabel('FP1')\n                \n            plt.subplot(8, 1, 2)\n            plt.plot(time, data=FP2)\n            plt.ylabel('FP2')\n                \n            plt.subplot(8, 1, 3)\n            plt.plot(time, data=Cz)\n            plt.ylabel('Cz')\n            \n            plt.subplot(8, 1, 4)\n            plt.plot(time, data=C5)\n            plt.ylabel('C5')\n                \n            plt.subplot(8, 1, 5)\n            plt.plot(time, data=P3)\n            plt.ylabel('P3')\n        \n            plt.subplot(8, 1, 6)\n            plt.plot(time, data=Oz)\n            plt.ylabel('Oz')\n            \n            plt.subplot(8, 1, 7)\n            plt.plot(time, data=P4)\n            plt.ylabel('P4')\n            \n            plt.subplot(8, 1, 8)\n            plt.plot(time, data=C6)\n            plt.ylabel('C6')\n            \n            plt.xlabel('Time (s)')\n            \n            #if type == 'Raw':\n                #plt.title('Raw EEG')\n            \n            if type == 'Filtered':\n                plt.title('Filtered EEG')\n               \n            plt.show()\n\n",
      "metadata": {
        "trusted": true
      },
      "execution_count": 67,
      "outputs": []
    },
    {
      "cell_type": "code",
      "source": "a = np.array([[1,2,3,4,5,6,7,8,9], [12,23,34,45,56,64,72,82,91], [14,22,32,43,53,36,73,38,39], [31,32,343,44,55,46,37,84,93]])\nprint(a[:, 1])\nplot(a,'Filtered')",
      "metadata": {
        "trusted": true
      },
      "execution_count": 69,
      "outputs": [
        {
          "name": "stdout",
          "text": "[ 2 23 22 32]\n",
          "output_type": "stream"
        },
        {
          "ename": "<class 'TypeError'>",
          "evalue": "string indices must be integers",
          "traceback": [
            "\u001b[0;31m---------------------------------------------------------------------------\u001b[0m",
            "\u001b[0;31mTypeError\u001b[0m                                 Traceback (most recent call last)",
            "Cell \u001b[0;32mIn [69], line 3\u001b[0m\n\u001b[1;32m      1\u001b[0m a \u001b[38;5;241m=\u001b[39m np\u001b[38;5;241m.\u001b[39marray([[\u001b[38;5;241m1\u001b[39m,\u001b[38;5;241m2\u001b[39m,\u001b[38;5;241m3\u001b[39m,\u001b[38;5;241m4\u001b[39m,\u001b[38;5;241m5\u001b[39m,\u001b[38;5;241m6\u001b[39m,\u001b[38;5;241m7\u001b[39m,\u001b[38;5;241m8\u001b[39m,\u001b[38;5;241m9\u001b[39m], [\u001b[38;5;241m12\u001b[39m,\u001b[38;5;241m23\u001b[39m,\u001b[38;5;241m34\u001b[39m,\u001b[38;5;241m45\u001b[39m,\u001b[38;5;241m56\u001b[39m,\u001b[38;5;241m64\u001b[39m,\u001b[38;5;241m72\u001b[39m,\u001b[38;5;241m82\u001b[39m,\u001b[38;5;241m91\u001b[39m], [\u001b[38;5;241m14\u001b[39m,\u001b[38;5;241m22\u001b[39m,\u001b[38;5;241m32\u001b[39m,\u001b[38;5;241m43\u001b[39m,\u001b[38;5;241m53\u001b[39m,\u001b[38;5;241m36\u001b[39m,\u001b[38;5;241m73\u001b[39m,\u001b[38;5;241m38\u001b[39m,\u001b[38;5;241m39\u001b[39m], [\u001b[38;5;241m31\u001b[39m,\u001b[38;5;241m32\u001b[39m,\u001b[38;5;241m343\u001b[39m,\u001b[38;5;241m44\u001b[39m,\u001b[38;5;241m55\u001b[39m,\u001b[38;5;241m46\u001b[39m,\u001b[38;5;241m37\u001b[39m,\u001b[38;5;241m84\u001b[39m,\u001b[38;5;241m93\u001b[39m]])\n\u001b[1;32m      2\u001b[0m \u001b[38;5;28mprint\u001b[39m(a[:, \u001b[38;5;241m1\u001b[39m])\n\u001b[0;32m----> 3\u001b[0m \u001b[43mplot\u001b[49m\u001b[43m(\u001b[49m\u001b[43ma\u001b[49m\u001b[43m,\u001b[49m\u001b[38;5;124;43m'\u001b[39;49m\u001b[38;5;124;43mFiltered\u001b[39;49m\u001b[38;5;124;43m'\u001b[39;49m\u001b[43m)\u001b[49m\n",
            "Cell \u001b[0;32mIn [67], line 94\u001b[0m, in \u001b[0;36mplot\u001b[0;34m(self, data, type)\u001b[0m\n\u001b[1;32m     90\u001b[0m     plt\u001b[38;5;241m.\u001b[39mshow()\n\u001b[1;32m     92\u001b[0m \u001b[38;5;28;01melse\u001b[39;00m: \n\u001b[0;32m---> 94\u001b[0m     time \u001b[38;5;241m=\u001b[39m \u001b[43mdata\u001b[49m\u001b[43m[\u001b[49m\u001b[43m:\u001b[49m\u001b[43m,\u001b[49m\u001b[38;5;241;43m0\u001b[39;49m\u001b[43m]\u001b[49m \n\u001b[1;32m     95\u001b[0m     FP1 \u001b[38;5;241m=\u001b[39m data[:, \u001b[38;5;241m1\u001b[39m]\n\u001b[1;32m     96\u001b[0m     FP2 \u001b[38;5;241m=\u001b[39m data[:, \u001b[38;5;241m2\u001b[39m]\n",
            "\u001b[0;31mTypeError\u001b[0m: string indices must be integers"
          ],
          "output_type": "error"
        }
      ]
    },
    {
      "cell_type": "code",
      "source": "",
      "metadata": {},
      "execution_count": null,
      "outputs": []
    }
  ]
}